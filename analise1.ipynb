{
  "nbformat": 4,
  "nbformat_minor": 0,
  "metadata": {
    "colab": {
      "provenance": []
    },
    "kernelspec": {
      "name": "python3",
      "display_name": "Python 3"
    },
    "language_info": {
      "name": "python"
    }
  },
  "cells": [
    {
      "cell_type": "code",
      "execution_count": null,
      "metadata": {
        "id": "qnmaYJ73270O"
      },
      "outputs": [],
      "source": [
        "#1. Importação de bibliotecas\n",
        "\n",
        "import pandas as pd\n",
        "import numpy as np\n",
        "import matplotlib.pyplot as plt\n",
        "\n",
        "from google.colab import files\n",
        "uploaded = files.upload()\n",
        "\n",
        "#2. Leitura e exploração inicial da base\n",
        "\n",
        "df = pd.read_csv('datasus_suicidio_2014_2018.csv',sep=\",\",encoding= 'latin-1');\n",
        "print(df.head())\n",
        "print(df.shape)\n",
        "print(df.columns)\n",
        "print(df.dtypes)\n",
        "\n",
        "#3. Limpeza e Transformação\n",
        "\n",
        "df_lim= df.drop(columns=['DTOBITO','DTNASC','ESTCIV','CODMUNRES','LOCOCOR','ASSISTMED','CAUSABAS','CAUSABAS_O','ESC','OCUP'])\n",
        "print(df_lim)\n",
        "\n",
        "## - Removi as colunas que continham dados que não são relevantes para a nossa análise no momento;\n",
        "## - Removi as colunas que continham os dados de data de óbito (DTOBITO) e de data de nascimento (DTNASC) porque o df já possui uma coluna com os dados da idade (idade), que são relevantes para a análise atual;\n",
        "## - Apesar das informações de escolaridade e de ocupação serem interessantes para a análise atual, optei por remover as colunas (ESC e OCUP) por possuir muitos campos sem informação;\n",
        "\n",
        "df = df_lim\n",
        "indices_para_remover = df[df['CIRCOBITO'] != 'Suicídio'].index\n",
        "df_filtrado = df.drop(indices_para_remover)\n",
        "print(df_filtrado)\n",
        "\n",
        "df = df_filtrado\n",
        "df_lim2 = df.drop(columns=['CIRCOBITO'])\n",
        "print(df_lim2)\n",
        "\n",
        "## - Para garantir que o df vai conter apenas casos de suicídio, removi as linhas que tivessem o campo da circunstância do óbito (CIRCOBITO) preenchidos com uma causa diferente de 'suicídio';\n",
        "## - Como agora todos os dados estão relacionados a causa suicídio, a coluna CIRCOBITO não é mais necessária, portanto optei por removê-la;\n",
        "\n",
        "print(df['idade'].min())\n",
        "print(df['idade'].max())\n",
        "\n",
        "## - Com df.min() e df.max() foi possível observar que a base reúne casos de suicídio de pessoas de 0 a 113 anos;\n",
        "\n",
        "df= df_lim2\n",
        "df.columns = df.columns.str.upper()\n",
        "print(df)\n",
        "\n",
        "## - Padronizei o nome das colunas deixando todos em caixa alta.\n",
        "\n",
        "## link: https://colab.research.google.com/drive/1-XhNYfCZgZyQ65ytmoQjx5ju2qtSoKXz?usp=sharing"
      ]
    },
    {
      "cell_type": "code",
      "source": [
        "df.info()\n",
        "###  Percebe-se que há informações pessoais ausente, como sexo, raça e idade\n",
        "\n",
        "df.describe()\n",
        "\n",
        "### Nota-se também que também há dados equivocados quantoa as idades, visto que a mínima é 0 e a máxima é 113, o que também é indicado pelo alto desvio padrão. Ou seja, o uso da média deve ser substituido pela mediana.\n",
        "\n",
        "print(df[\"IDADE\"].median())\n",
        "print(df[\"SEXO\"].mode())\n",
        "print(df[\"SEXO\"].unique())\n",
        "\n",
        "df[\"SEXO\"] = df[\"SEXO\"].fillna(\"Não identificado\")\n",
        "df[\"SEXO\"].unique()\n",
        "\n",
        "## Para gerar hipoteses, vamos gerar valores para as variáveis qualitativas\n",
        "contagem_sexo = df[\"SEXO\"].value_counts()\n",
        "print(contagem_sexo)\n",
        "\n",
        "### Conclui-se que a quantidade de homens é quase 4x, 270% acima, que a quantidade mulheres\n",
        "\n",
        "contagem_raca = df[\"RACACOR\"].value_counts()\n",
        "print(contagem_raca)\n",
        "\n",
        "### Além disso, pessoas da raça brancas são as registradas em maior quantidade\n",
        "\n",
        "mediana_idade = df.groupby(\"SEXO\")[\"IDADE\"].median()\n",
        "print(mediana_idade)\n",
        "\n",
        "### E também se conclui que a idade média dos registrados é semelhante\n"
      ],
      "metadata": {
        "id": "JBwFVjhM_9Uj"
      },
      "execution_count": null,
      "outputs": []
    },
    {
      "cell_type": "markdown",
      "source": [],
      "metadata": {
        "id": "xbtsVZbE_xwt"
      }
    }
  ]
}