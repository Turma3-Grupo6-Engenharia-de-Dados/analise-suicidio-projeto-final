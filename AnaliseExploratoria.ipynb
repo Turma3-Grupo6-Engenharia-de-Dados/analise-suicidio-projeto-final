{
  "nbformat": 4,
  "nbformat_minor": 0,
  "metadata": {
    "colab": {
      "provenance": []
    },
    "kernelspec": {
      "name": "python3",
      "display_name": "Python 3"
    },
    "language_info": {
      "name": "python"
    }
  },
  "cells": [
    {
      "cell_type": "markdown",
      "source": [
        "# **Projeto Final | Grupo 3_6**\n",
        "\n",
        "- Análise dos caso de suicidio no Brasil entre 2014 e 2018\n"
      ],
      "metadata": {
        "id": "1CFR5dvnxCkw"
      }
    },
    {
      "cell_type": "markdown",
      "source": [
        "## Análise Exploratória\n",
        "\n",
        "Análise inicial para descobrir padrões, os primeiros insights e formular hipóteses."
      ],
      "metadata": {
        "id": "dXAZz6h8yqSA"
      }
    },
    {
      "cell_type": "markdown",
      "source": [
        "## Hipóteses\n",
        "\n",
        "1. H1 - Há um maior número de casos entre adolescentes (12 a 18 anos);\n",
        "2. H2 - O número de casos apresenta um padrão sazonal, variando de acordo com o `MES` do ano, ou seja, datas comemorativas tedem ter maior número de ocorrências;\n",
        "3. H3 - A distribuição de `IDADE` é diferente entre os grupos do `SEXO` masculino e feminino."
      ],
      "metadata": {
        "id": "XAXazc6V2Vwt"
      }
    },
    {
      "cell_type": "code",
      "execution_count": 2,
      "metadata": {
        "id": "q46d-Y8kr2tr"
      },
      "outputs": [],
      "source": [
        "import pandas as pd\n",
        "import numpy as np\n",
        "import matplotlib.pyplot as plt"
      ]
    },
    {
      "cell_type": "code",
      "source": [
        "#Carregar dados\n",
        "suicidio=pd.read_csv('/content/drive/MyDrive/Colab Notebooks/suicidioFinal.csv', encoding='latin-1', sep=\",\") #Dados do suicidio"
      ],
      "metadata": {
        "id": "yh4zlKKDsgWB"
      },
      "execution_count": 3,
      "outputs": []
    },
    {
      "cell_type": "markdown",
      "source": [
        "- A base de dados já passou por um processo de limpeza anterior"
      ],
      "metadata": {
        "id": "y27IO76gziqG"
      }
    },
    {
      "cell_type": "code",
      "source": [
        "print(suicidio.head()) # 5 LINHAS INICIAIS DO DF"
      ],
      "metadata": {
        "colab": {
          "base_uri": "https://localhost:8080/"
        },
        "id": "V87aMg_Iu3JF",
        "outputId": "68c2e364-157c-499d-82a7-be62e9a751ef"
      },
      "execution_count": 4,
      "outputs": [
        {
          "output_type": "stream",
          "name": "stdout",
          "text": [
            "  estado   ano       SEXO RACACOR  idade  mes\n",
            "0     AC  2014  Masculino   Preta   37.0    1\n",
            "1     AC  2014  Masculino  Branca   48.0    1\n",
            "2     AC  2014  Masculino  Branca   71.0    1\n",
            "3     AC  2014  Masculino  Branca   15.0    2\n",
            "4     AC  2014  Masculino  Branca   42.0    2\n"
          ]
        }
      ]
    },
    {
      "cell_type": "code",
      "source": [
        "suicidio.columns = suicidio.columns.str.upper()\n",
        "print(suicidio.head(1))"
      ],
      "metadata": {
        "colab": {
          "base_uri": "https://localhost:8080/"
        },
        "id": "BaMQMCK8_vhn",
        "outputId": "53a25a6e-ce83-402a-f30b-453413f1ec37"
      },
      "execution_count": 5,
      "outputs": [
        {
          "output_type": "stream",
          "name": "stdout",
          "text": [
            "  ESTADO   ANO       SEXO RACACOR  IDADE  MES\n",
            "0     AC  2014  Masculino   Preta   37.0    1\n"
          ]
        }
      ]
    },
    {
      "cell_type": "code",
      "source": [
        "print(suicidio.shape) #QUANTIDADE DE LINHAS E COLUNAS"
      ],
      "metadata": {
        "colab": {
          "base_uri": "https://localhost:8080/"
        },
        "id": "abA5WWlhuuC2",
        "outputId": "57bc92df-9ad6-4b61-b431-d7d6df92e158"
      },
      "execution_count": 6,
      "outputs": [
        {
          "output_type": "stream",
          "name": "stdout",
          "text": [
            "(55484, 6)\n"
          ]
        }
      ]
    },
    {
      "cell_type": "code",
      "source": [
        "print(suicidio.describe()) #TIPO DE DADOS"
      ],
      "metadata": {
        "colab": {
          "base_uri": "https://localhost:8080/"
        },
        "id": "zfhYG11cm-O9",
        "outputId": "9efe2617-122f-47ab-8f67-615f14f8c42c"
      },
      "execution_count": 22,
      "outputs": [
        {
          "output_type": "stream",
          "name": "stdout",
          "text": [
            "                ANO         IDADE           MES\n",
            "count  55484.000000  55275.000000  55484.000000\n",
            "mean    2016.096082     42.608738      6.592045\n",
            "std        1.418914     17.368560      3.502152\n",
            "min     2014.000000      8.000000      1.000000\n",
            "25%     2015.000000     29.000000      4.000000\n",
            "50%     2016.000000     41.000000      7.000000\n",
            "75%     2017.000000     55.000000     10.000000\n",
            "max     2018.000000    113.000000     12.000000\n"
          ]
        }
      ]
    },
    {
      "cell_type": "code",
      "source": [
        "print(suicidio['SEXO'].value_counts())      # VERIFICANDO A VARIAÇÃO DE RESPOSTA NA VARIÁVEL SEXO\n",
        "print(suicidio['RACACOR'].value_counts())   # VERIFICANDO A VARIAÇÃO DE RESPOSTAS NA VARIÁVEL RAÇA"
      ],
      "metadata": {
        "colab": {
          "base_uri": "https://localhost:8080/"
        },
        "id": "tMl8ftZ1n03Z",
        "outputId": "1c8ac6e2-bb54-47ea-8619-1d3ce4c82cbc"
      },
      "execution_count": 25,
      "outputs": [
        {
          "output_type": "stream",
          "name": "stdout",
          "text": [
            "SEXO\n",
            "Masculino    43667\n",
            "Feminino     11803\n",
            "Name: count, dtype: int64\n",
            "RACACOR\n",
            "Branca      27867\n",
            "Parda       22708\n",
            "Preta        2844\n",
            "Indígena      612\n",
            "Amarela       222\n",
            "Name: count, dtype: int64\n"
          ]
        }
      ]
    },
    {
      "cell_type": "code",
      "source": [
        "# TRANSFORMANDO VARIAVEIS QUALI EM QUANTIS\n",
        "sexoNUM = {\n",
        "    'Masculino': 1,   # SEXO MASCULINO PARA 1\n",
        "    'Feminino': 2     # SEXO FEMININO PARA 2\n",
        "}\n",
        "racaNUM = {\n",
        "    'Branca': 1,      # RAÇAS PARA ALGARISMOS\n",
        "    'Parda': 2,\n",
        "    'Preta': 3,\n",
        "    'Indígena': 4,\n",
        "    'Amarela': 5,\n",
        "}\n",
        "\n",
        "suicidio['sexoNUM'] = suicidio['SEXO'].map(sexoNUM)    # CRIANDO UMA NOVA COLUNA COM AS VARIÁVEIS QUANTITATIVAS PARA O SEXO\n",
        "suicidio['racaNUM'] = suicidio['RACACOR'].map(racaNUM) # CRIANDO UMA NOVA COLUNA COM AS VARIÁVEIS QUANTITATIVAS PARA RAÇA\n",
        "\n",
        "print(suicidio.head()) # NOVA DF"
      ],
      "metadata": {
        "colab": {
          "base_uri": "https://localhost:8080/"
        },
        "id": "8ekPzglYo34r",
        "outputId": "4c1d6d0a-e74c-413b-aaa8-7cbe1f160fb1"
      },
      "execution_count": 26,
      "outputs": [
        {
          "output_type": "stream",
          "name": "stdout",
          "text": [
            "  ESTADO   ANO       SEXO RACACOR  IDADE  MES  sexoNUM  racaNUM\n",
            "0     AC  2014  Masculino   Preta   37.0    1      1.0      3.0\n",
            "1     AC  2014  Masculino  Branca   48.0    1      1.0      1.0\n",
            "2     AC  2014  Masculino  Branca   71.0    1      1.0      1.0\n",
            "3     AC  2014  Masculino  Branca   15.0    2      1.0      1.0\n",
            "4     AC  2014  Masculino  Branca   42.0    2      1.0      1.0\n"
          ]
        }
      ]
    },
    {
      "cell_type": "code",
      "source": [
        "print(suicidio.describe()) # DESCRITIVA PARA TODAS AS VARIÁVEIS"
      ],
      "metadata": {
        "colab": {
          "base_uri": "https://localhost:8080/"
        },
        "id": "bxzc71Vlpie-",
        "outputId": "f48b2c6c-71bd-4f0d-b505-c7699de763ca"
      },
      "execution_count": 27,
      "outputs": [
        {
          "output_type": "stream",
          "name": "stdout",
          "text": [
            "                ANO         IDADE           MES       sexoNUM       racaNUM\n",
            "count  55484.000000  55275.000000  55484.000000  55470.000000  54253.000000\n",
            "mean    2016.096082     42.608738      6.592045      1.212782      1.573609\n",
            "std        1.418914     17.368560      3.502152      0.409278      0.682802\n",
            "min     2014.000000      8.000000      1.000000      1.000000      1.000000\n",
            "25%     2015.000000     29.000000      4.000000      1.000000      1.000000\n",
            "50%     2016.000000     41.000000      7.000000      1.000000      1.000000\n",
            "75%     2017.000000     55.000000     10.000000      1.000000      2.000000\n",
            "max     2018.000000    113.000000     12.000000      2.000000      5.000000\n"
          ]
        }
      ]
    },
    {
      "cell_type": "markdown",
      "source": [
        "- A média de idade é 42 anos.\n",
        "- A menor idade registrada é de 8 anos e a maior de 113 anos.\n",
        "- A maioria dos casos são, em média, com pessoas do sexo Masculino."
      ],
      "metadata": {
        "id": "k9kCTETQ4Ng9"
      }
    },
    {
      "cell_type": "code",
      "source": [
        "contagem_SEXO = suicidio.groupby('SEXO')['SEXO'].count() # CONTAGEM DOS CASOS GERAIS POR SEXO\n",
        "print(contagem_SEXO)"
      ],
      "metadata": {
        "colab": {
          "base_uri": "https://localhost:8080/"
        },
        "id": "thfz33SVz2lc",
        "outputId": "8b5d3058-a159-475f-9e8e-207b8fe46268"
      },
      "execution_count": 7,
      "outputs": [
        {
          "output_type": "stream",
          "name": "stdout",
          "text": [
            "SEXO\n",
            "Feminino     11803\n",
            "Masculino    43667\n",
            "Name: SEXO, dtype: int64\n"
          ]
        }
      ]
    },
    {
      "cell_type": "markdown",
      "source": [
        "- O maior número de casos são com pessoas do sexo Masculino"
      ],
      "metadata": {
        "id": "dBFzOwImCu7h"
      }
    },
    {
      "cell_type": "code",
      "source": [
        "anual = suicidio.groupby(['SEXO','ANO']).size().reset_index(name='CASOS')  # CONTAGEM DOS CASOS POR SEXO ANUAL\n",
        "tabelaanual = anual.pivot(index='ANO', columns='SEXO', values='CASOS')     # CRIAÇÃO DE TABELA PELO .PIVOT\n",
        "\n",
        "print(tabelaanual)"
      ],
      "metadata": {
        "colab": {
          "base_uri": "https://localhost:8080/"
        },
        "id": "wCNMGY5RBU2M",
        "outputId": "1cf43dd1-b2cc-4f27-e7f9-c3e20e0a50ab"
      },
      "execution_count": 33,
      "outputs": [
        {
          "output_type": "stream",
          "name": "stdout",
          "text": [
            "SEXO  Feminino  Masculino\n",
            "ANO                      \n",
            "2014      2165       8054\n",
            "2015      2266       8263\n",
            "2016      2232       8449\n",
            "2017      2519       9274\n",
            "2018      2621       9627\n"
          ]
        }
      ]
    },
    {
      "cell_type": "markdown",
      "source": [
        "- O número é de casos continuou aumentando para os homemns nos 5 anos analisados.\n",
        "- Mulheres teve queda no número de casos no ano de 2016, mas logo continuou a subir nos anos seguintes."
      ],
      "metadata": {
        "id": "zCt1VPuIDDmj"
      }
    },
    {
      "cell_type": "code",
      "source": [
        "mensal = suicidio.groupby(['SEXO','MES']).size().reset_index(name='CASOS')  # CONTAGEM DOS CASOS MENSAIS POR SEXO\n",
        "tabelamensal = mensal.pivot(index='MES', columns='SEXO', values='CASOS')    # CRIAÇÃO DE TABELA PELO .PIVOT\n",
        "\n",
        "print(tabelamensal)"
      ],
      "metadata": {
        "colab": {
          "base_uri": "https://localhost:8080/"
        },
        "id": "jMcdDjyuLTbZ",
        "outputId": "4c0524b4-3919-4c81-c6b4-9f4cc2b2f007"
      },
      "execution_count": 35,
      "outputs": [
        {
          "output_type": "stream",
          "name": "stdout",
          "text": [
            "SEXO  Feminino  Masculino\n",
            "MES                      \n",
            "1         1020       3746\n",
            "2          897       3434\n",
            "3         1095       3667\n",
            "4          971       3518\n",
            "5          971       3532\n",
            "6          894       3297\n",
            "7          867       3399\n",
            "8         1014       3629\n",
            "9         1010       3726\n",
            "10        1014       3943\n",
            "11        1039       3734\n",
            "12        1011       4042\n"
          ]
        }
      ]
    },
    {
      "cell_type": "markdown",
      "source": [
        "- A média de registros é maior para Mulheres no mês de Março, enquanto para homens é o mês de Dezembro"
      ],
      "metadata": {
        "id": "UWhWcGMY5KCQ"
      }
    },
    {
      "cell_type": "code",
      "source": [
        "# VERIFICAÇÃO DE REGISTROS MENSAIS\n",
        "mensal=suicidio.groupby(['ANO','MES']).size().reset_index(name='CASOS')  # CONTAGEM DOS CASOS MENSAIS\n",
        "media_mensal = mensal.groupby('MES')['CASOS'].mean()                     # MÉDIA MENSAL GERAL DE CASOS\n",
        "\n",
        "print(media_mensal)"
      ],
      "metadata": {
        "colab": {
          "base_uri": "https://localhost:8080/"
        },
        "id": "5m3PR86dLlQz",
        "outputId": "a7e2844b-1c9e-4488-89e7-2d472823f49b"
      },
      "execution_count": 39,
      "outputs": [
        {
          "output_type": "stream",
          "name": "stdout",
          "text": [
            "MES\n",
            "1      953.6\n",
            "2      866.6\n",
            "3      952.6\n",
            "4      897.8\n",
            "5      900.8\n",
            "6      838.4\n",
            "7      853.8\n",
            "8      928.6\n",
            "9      947.4\n",
            "10     991.6\n",
            "11     954.8\n",
            "12    1010.8\n",
            "Name: CASOS, dtype: float64\n"
          ]
        }
      ]
    },
    {
      "cell_type": "code",
      "source": [
        "# VERIFICAÇÃO DE CASOS POR MÊS\n",
        "mensal = suicidio.groupby(['ANO','MES']).size().reset_index(name='CASOS')  # CONTAGEM DOS CASOS MENSAIS\n",
        "tabelamensal = mensal.pivot(index='ANO', columns='MES', values='CASOS')    # CRIAÇÃO DE TABELA PELO .PIVOT\n",
        "\n",
        "print(tabelamensal)"
      ],
      "metadata": {
        "colab": {
          "base_uri": "https://localhost:8080/"
        },
        "id": "hxtWCGkptG7F",
        "outputId": "ed801c10-5b55-41bd-a85b-37a514c4c2c9"
      },
      "execution_count": 31,
      "outputs": [
        {
          "output_type": "stream",
          "name": "stdout",
          "text": [
            "MES     1    2     3     4     5    6    7     8     9     10    11    12\n",
            "ANO                                                                      \n",
            "2014   889  843   920   856   790  766  725   902   870   867   884   908\n",
            "2015   969  794   891   883   862  811  811   864   854   922   868  1002\n",
            "2016   878  857   860   847   865  819  867   859   898   972   964   997\n",
            "2017   996  914  1002   873   974  871  881  1016  1072  1146  1008  1045\n",
            "2018  1036  925  1090  1030  1013  925  985  1002  1043  1051  1050  1102\n"
          ]
        }
      ]
    },
    {
      "cell_type": "markdown",
      "source": [
        "A partir dos dados anteriores em relação o número de casos e as média mensais, pode-se concluir:\n",
        "\n",
        "- O mês/ano com o maior número de casos foi em **Outubro de 2017**, com **1.146 casos**.\n",
        "- O mês/ano com o menor número de casos foi em **Julho de 2014**, com **725 casos**.\n",
        "\n",
        "Em relação a média de cada mês ao longo de todos os anos analisados, há um padrão sazonal de casos, são eles:\n",
        "\n",
        "- **Dezembro** com a maior média de casos, sendo 1.011 casos.\n",
        "- **Junho** com a menor média, sendo 838 casos.\n",
        "\n",
        "\n",
        " Média de casos por mês:\n",
        "\n",
        "| Posição| Mês | Média de Casos (2014-2018) |\n",
        "| :--- | :--- | :---\n",
        "| 1 | **Dezembro** | 1010.8 |\n",
        "| 2 | **Outubro** | 991.6 |\n",
        "| 3 | **Novembro** | 954.8 |\n",
        "| 4 | **Janeiro** | 953.6 |\n",
        "| 5 | **Março** | 952.6 |\n",
        "| 6 | **Setembro** | 947.4 |\n",
        "| 7 | **Agosto** | 928.6 |\n",
        "| 8 | **Maio** | 900.8 |\n",
        "| 9 | **Abril** | 897.8 |\n",
        "| 10 | **Fevereiro** | 866.6 |\n",
        "| 11 | **Julho** | 853.8 |\n",
        "| 12 | **Junho** | 838.4 |"
      ],
      "metadata": {
        "id": "UM1QUS_GuJ6o"
      }
    },
    {
      "cell_type": "code",
      "source": [
        "print(suicidio['IDADE'].describe())"
      ],
      "metadata": {
        "colab": {
          "base_uri": "https://localhost:8080/"
        },
        "id": "EgYaNhKoNjve",
        "outputId": "7553f268-aa25-461c-df55-94d2c5c54c72"
      },
      "execution_count": 40,
      "outputs": [
        {
          "output_type": "stream",
          "name": "stdout",
          "text": [
            "count    55275.000000\n",
            "mean        42.608738\n",
            "std         17.368560\n",
            "min          8.000000\n",
            "25%         29.000000\n",
            "50%         41.000000\n",
            "75%         55.000000\n",
            "max        113.000000\n",
            "Name: IDADE, dtype: float64\n"
          ]
        }
      ]
    },
    {
      "cell_type": "code",
      "source": [
        "print(suicidio['IDADE'].value_counts())"
      ],
      "metadata": {
        "colab": {
          "base_uri": "https://localhost:8080/"
        },
        "id": "54UQgr7T1RXn",
        "outputId": "f41cb55d-cd29-40af-e7a2-7b210de094e0"
      },
      "execution_count": 41,
      "outputs": [
        {
          "output_type": "stream",
          "name": "stdout",
          "text": [
            "IDADE\n",
            "33.0     1222\n",
            "30.0     1200\n",
            "35.0     1188\n",
            "31.0     1180\n",
            "39.0     1178\n",
            "         ... \n",
            "113.0       1\n",
            "112.0       1\n",
            "103.0       1\n",
            "99.0        1\n",
            "102.0       1\n",
            "Name: count, Length: 99, dtype: int64\n"
          ]
        }
      ]
    },
    {
      "cell_type": "code",
      "source": [
        "import matplotlib.pyplot as pltimport, seaborn as sns\n",
        "\n",
        "sns.histplot(suicidio[\"IDADE\"], bins=15, kde=False, color=\"green\")\n",
        "plt.title(\"Distribuição das idades por caso\")\n",
        "plt.xlabel(\"Idade\")\n",
        "plt.ylabel(\"Número de casos\")\n",
        "plt.show()\n"
      ],
      "metadata": {
        "colab": {
          "base_uri": "https://localhost:8080/",
          "height": 472
        },
        "id": "zIYM1hwM2HII",
        "outputId": "9a5d975c-da46-4444-9c02-e181c36eca27"
      },
      "execution_count": 60,
      "outputs": [
        {
          "output_type": "display_data",
          "data": {
            "text/plain": [
              "<Figure size 640x480 with 1 Axes>"
            ],
            "image/png": "[encoded data removed]"
          },
          "metadata": {}
        }
      ]
    },
    {
      "cell_type": "code",
      "source": [
        "tabela = suicidio.groupby([\"IDADE\",\"SEXO\"]).size().reset_index(name=\"CASOS\")\n",
        "\n",
        "sns.barplot(x=\"IDADE\", y=\"CASOS\", hue=\"SEXO\", data=tabela)\n",
        "plt.title(\"Casos de suicídio por idade e sexo\")\n",
        "plt.xlabel(\"Idade\")\n",
        "plt.ylabel(\"Número de casos\")\n",
        "plt.show()\n"
      ],
      "metadata": {
        "colab": {
          "base_uri": "https://localhost:8080/",
          "height": 472
        },
        "id": "0SabXZDc2xbg",
        "outputId": "5b255980-6922-4396-9c62-126f68010361"
      },
      "execution_count": 58,
      "outputs": [
        {
          "output_type": "display_data",
          "data": {
            "text/plain": [
              "<Figure size 640x480 with 1 Axes>"
            ],
            "image/png": "[encoded data removed]"
          },
          "metadata": {}
        }
      ]
    }
  ]
}
